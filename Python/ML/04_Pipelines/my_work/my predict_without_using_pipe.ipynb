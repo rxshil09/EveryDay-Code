{
 "cells": [
  {
   "cell_type": "code",
   "execution_count": 1,
   "id": "f7d0096d",
   "metadata": {},
   "outputs": [],
   "source": [
    "import pickle\n",
    "import numpy as np"
   ]
  },
  {
   "cell_type": "code",
   "execution_count": 2,
   "id": "0d91cde8",
   "metadata": {},
   "outputs": [],
   "source": [
    "ohe_sex = pickle.load(open('my_models/ohe_sex.pkl', 'rb'))\n",
    "ohe_embark = pickle.load(open('my_models/ohe_embark.pkl', 'rb'))\n",
    "clf = pickle.load(open('my_models/clf.pkl', 'rb'))"
   ]
  },
  {
   "cell_type": "markdown",
   "id": "36d0b2a5",
   "metadata": {},
   "source": [
    "Assume user input\n",
    "\n",
    "Pclass/gender/age/SibSp/Parch/Fare/Embarked"
   ]
  },
  {
   "cell_type": "code",
   "execution_count": 3,
   "id": "a59e6391",
   "metadata": {},
   "outputs": [],
   "source": [
    "test_input = np.array([2, 'male', 31, 0,0,10.5, 'S'], dtype=object).reshape(1,7)"
   ]
  },
  {
   "cell_type": "code",
   "execution_count": 4,
   "id": "1d8e8702",
   "metadata": {},
   "outputs": [
    {
     "data": {
      "text/plain": [
       "array([[2, 'male', 31, 0, 0, 10.5, 'S']], dtype=object)"
      ]
     },
     "execution_count": 4,
     "metadata": {},
     "output_type": "execute_result"
    }
   ],
   "source": [
    "test_input"
   ]
  },
  {
   "cell_type": "code",
   "execution_count": 5,
   "id": "a343eb1e",
   "metadata": {},
   "outputs": [
    {
     "name": "stderr",
     "output_type": "stream",
     "text": [
      "d:\\CODING\\Python\\py311\\Lib\\site-packages\\sklearn\\utils\\validation.py:2749: UserWarning: X does not have valid feature names, but OneHotEncoder was fitted with feature names\n",
      "  warnings.warn(\n"
     ]
    }
   ],
   "source": [
    "test_input_sex = ohe_sex.transform(test_input[:, 1].reshape(1,1))\n",
    "test_input_embark = ohe_embark.transform(test_input[:, -1].reshape(1,1))"
   ]
  },
  {
   "cell_type": "code",
   "execution_count": 6,
   "id": "f40e0a2e",
   "metadata": {},
   "outputs": [
    {
     "data": {
      "text/plain": [
       "array([[0, 1]], dtype=int32)"
      ]
     },
     "execution_count": 6,
     "metadata": {},
     "output_type": "execute_result"
    }
   ],
   "source": [
    "test_input_sex"
   ]
  },
  {
   "cell_type": "code",
   "execution_count": 7,
   "id": "2f5676e1",
   "metadata": {},
   "outputs": [
    {
     "data": {
      "text/plain": [
       "array([[0, 0, 1]], dtype=int32)"
      ]
     },
     "execution_count": 7,
     "metadata": {},
     "output_type": "execute_result"
    }
   ],
   "source": [
    "test_input_embark"
   ]
  },
  {
   "cell_type": "code",
   "execution_count": 8,
   "id": "b5077c4f",
   "metadata": {},
   "outputs": [],
   "source": [
    "test_input_age = test_input[:, 2].reshape(1,1)"
   ]
  },
  {
   "cell_type": "code",
   "execution_count": 9,
   "id": "70d6f936",
   "metadata": {},
   "outputs": [],
   "source": [
    "test_input_transformed = np.concatenate((test_input[:, [0,3,4,5]], test_input_age, test_input_sex, test_input_embark), axis=1)"
   ]
  },
  {
   "cell_type": "code",
   "execution_count": 10,
   "id": "58fb6643",
   "metadata": {},
   "outputs": [
    {
     "data": {
      "text/plain": [
       "(1, 10)"
      ]
     },
     "execution_count": 10,
     "metadata": {},
     "output_type": "execute_result"
    }
   ],
   "source": [
    "test_input_transformed.shape"
   ]
  },
  {
   "cell_type": "code",
   "execution_count": 11,
   "id": "ce17b582",
   "metadata": {},
   "outputs": [
    {
     "data": {
      "text/plain": [
       "array([1])"
      ]
     },
     "execution_count": 11,
     "metadata": {},
     "output_type": "execute_result"
    }
   ],
   "source": [
    "clf.predict(test_input_transformed)"
   ]
  },
  {
   "cell_type": "code",
   "execution_count": null,
   "id": "f0cb45d1",
   "metadata": {},
   "outputs": [],
   "source": []
  }
 ],
 "metadata": {
  "kernelspec": {
   "display_name": "py311",
   "language": "python",
   "name": "python3"
  },
  "language_info": {
   "codemirror_mode": {
    "name": "ipython",
    "version": 3
   },
   "file_extension": ".py",
   "mimetype": "text/x-python",
   "name": "python",
   "nbconvert_exporter": "python",
   "pygments_lexer": "ipython3",
   "version": "3.11.9"
  }
 },
 "nbformat": 4,
 "nbformat_minor": 5
}
