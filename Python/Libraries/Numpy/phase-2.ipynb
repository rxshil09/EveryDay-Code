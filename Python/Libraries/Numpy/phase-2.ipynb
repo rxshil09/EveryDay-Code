{
 "cells": [
  {
   "cell_type": "markdown",
   "id": "fb0bf768",
   "metadata": {},
   "source": [
    "## Numpy Array Operations"
   ]
  },
  {
   "cell_type": "code",
   "execution_count": 4,
   "id": "92e17e48",
   "metadata": {},
   "outputs": [],
   "source": [
    "import numpy as np"
   ]
  },
  {
   "cell_type": "code",
   "execution_count": 5,
   "id": "41608852",
   "metadata": {},
   "outputs": [
    {
     "name": "stdout",
     "output_type": "stream",
     "text": [
      "Basic Slicing:  [3 4 5 6 7]\n",
      "With Step Slicing:  [2 4 6 8]\n",
      "Negative Slicing:  10\n"
     ]
    }
   ],
   "source": [
    "arr = np.arange(1, 11)\n",
    "print(\"Basic Slicing: \", arr[2:7])\n",
    "print(\"With Step Slicing: \", arr[1:8:2])\n",
    "print(\"Negative Slicing: \", arr[-1])"
   ]
  },
  {
   "cell_type": "code",
   "execution_count": 6,
   "id": "3622eafa",
   "metadata": {},
   "outputs": [
    {
     "name": "stdout",
     "output_type": "stream",
     "text": [
      "specific element:  5\n",
      "Whole Row:  [1 2 3]\n",
      "Whole Column:  [1 4 7]\n"
     ]
    }
   ],
   "source": [
    "arr_2d = np.array([[1, 2, 3],\n",
    "                    [4, 5, 6],\n",
    "                    [7, 8, 9]])\n",
    "\n",
    "print(\"specific element: \", arr_2d[1, 1])\n",
    "print(\"Whole Row: \", arr_2d[0])\n",
    "print(\"Whole Column: \", arr_2d[:, 0])"
   ]
  },
  {
   "cell_type": "markdown",
   "id": "f6c66e8b",
   "metadata": {},
   "source": [
    "## Sorting"
   ]
  },
  {
   "cell_type": "code",
   "execution_count": 7,
   "id": "3645d719",
   "metadata": {},
   "outputs": [
    {
     "name": "stdout",
     "output_type": "stream",
     "text": [
      "Sorted array:  [-13   0   1   3   4   4  15  16  25 523]\n",
      "Sorted 2d by column: \n",
      " [[ 2  1]\n",
      " [ 3  3]\n",
      " [10  5]]\n"
     ]
    }
   ],
   "source": [
    "unsorted_arr = np.array([3, 4,1 ,4, 16, 15, 0, -13, 523, 25])\n",
    "print(\"Sorted array: \", np.sort(unsorted_arr))\n",
    "\n",
    "arr_2d_unsorted = np.array([[3, 1], [10, 5], [2, 3]])\n",
    "print(\"Sorted 2d by column: \\n\", np.sort(arr_2d_unsorted, axis = 0))"
   ]
  },
  {
   "cell_type": "markdown",
   "id": "af33ec33",
   "metadata": {},
   "source": [
    "## Filter"
   ]
  },
  {
   "cell_type": "code",
   "execution_count": 8,
   "id": "170ab96c",
   "metadata": {},
   "outputs": [
    {
     "name": "stdout",
     "output_type": "stream",
     "text": [
      "even numbers:  [ 2  4  6  8 10]\n"
     ]
    }
   ],
   "source": [
    "numbers = np.arange(1,11)\n",
    "even_num = numbers[numbers % 2 == 0]\n",
    "print(\"even numbers: \", even_num)"
   ]
  },
  {
   "cell_type": "markdown",
   "id": "d83dbed5",
   "metadata": {},
   "source": [
    "## Fliter with Mask"
   ]
  },
  {
   "cell_type": "code",
   "execution_count": 9,
   "id": "a30bc286",
   "metadata": {},
   "outputs": [
    {
     "name": "stdout",
     "output_type": "stream",
     "text": [
      "numbers greater than 5:  [ 6  7  8  9 10]\n"
     ]
    }
   ],
   "source": [
    "mask = numbers > 5\n",
    "print(\"numbers greater than 5: \", numbers[mask])"
   ]
  },
  {
   "cell_type": "markdown",
   "id": "e58e5852",
   "metadata": {},
   "source": [
    "## Fancy indexing vs np.where"
   ]
  },
  {
   "cell_type": "code",
   "execution_count": 10,
   "id": "e4edbeaa",
   "metadata": {},
   "outputs": [
    {
     "name": "stdout",
     "output_type": "stream",
     "text": [
      "[1 3 5]\n",
      "using np.where():  [ 6  7  8  9 10]\n"
     ]
    }
   ],
   "source": [
    "indices = [0, 2, 4]\n",
    "print(numbers[indices])\n",
    "\n",
    "where_result = np.where(numbers > 5)\n",
    "print(\"using np.where(): \", numbers[where_result])"
   ]
  },
  {
   "cell_type": "code",
   "execution_count": 12,
   "id": "97d505e1",
   "metadata": {},
   "outputs": [
    {
     "name": "stdout",
     "output_type": "stream",
     "text": [
      "['false' 'false' 'false' 'false' 'false' 'true' 'true' 'true' 'true'\n",
      " 'true']\n"
     ]
    }
   ],
   "source": [
    "condition_arr = np.where(numbers > 5, \"true\", \"false\")\n",
    "print(condition_arr)"
   ]
  },
  {
   "cell_type": "markdown",
   "id": "8b1e38e5",
   "metadata": {},
   "source": [
    "## Adding and Removing Data"
   ]
  },
  {
   "cell_type": "code",
   "execution_count": 16,
   "id": "ad252800",
   "metadata": {},
   "outputs": [
    {
     "name": "stdout",
     "output_type": "stream",
     "text": [
      "[5 7 9]\n",
      "[1 2 3 4 5 6]\n"
     ]
    }
   ],
   "source": [
    "arr1 = np.array([1, 2, 3])\n",
    "arr2 = np.array([4, 5, 6])\n",
    "\n",
    "combined = arr1 + arr2\n",
    "print(combined)\n",
    "\n",
    "merged = np.concatenate((arr1, arr2))\n",
    "print(merged)"
   ]
  },
  {
   "cell_type": "markdown",
   "id": "c6cfc63d",
   "metadata": {},
   "source": [
    "### Array Complatibility"
   ]
  },
  {
   "cell_type": "code",
   "execution_count": 18,
   "id": "957464b5",
   "metadata": {},
   "outputs": [
    {
     "name": "stdout",
     "output_type": "stream",
     "text": [
      "Compatibilty Shapes:  True\n"
     ]
    }
   ],
   "source": [
    "a = np.array([1, 2, 3])\n",
    "b = np.array([4, 5, 6])\n",
    "c = np.array([7, 8, 9])\n",
    "\n",
    "print(\"Compatibilty Shapes: \", a.shape == b.shape)"
   ]
  },
  {
   "cell_type": "code",
   "execution_count": 27,
   "id": "bd2d05c8",
   "metadata": {},
   "outputs": [
    {
     "name": "stdout",
     "output_type": "stream",
     "text": [
      "original: \n",
      " [[1 2]\n",
      " [3 4]]\n",
      "with new row: \n",
      " [[1 2]\n",
      " [3 4]\n",
      " [5 6]]\n",
      "with new column: \n",
      " [[1 2 7]\n",
      " [3 4 8]\n",
      " [5 6 9]]\n"
     ]
    }
   ],
   "source": [
    "original = np.array([[1, 2], [3, 4]])\n",
    "new_row = np.array([[5, 6]])\n",
    "\n",
    "# vstack always adds a row\n",
    "with_new_row = np.vstack((original, new_row))\n",
    "print(\"original: \\n\", original)\n",
    "print(\"with new row: \\n\", with_new_row)\n",
    "\n",
    "# hstack column add krta hai\n",
    "new_column = np.array([[7], [8], [9]])\n",
    "with_new_col = np.hstack((with_new_row, new_column))\n",
    "print(\"with new column: \\n\", with_new_col)\n"
   ]
  },
  {
   "cell_type": "code",
   "execution_count": 29,
   "id": "65fb06e9",
   "metadata": {},
   "outputs": [
    {
     "name": "stdout",
     "output_type": "stream",
     "text": [
      "Array after deletion:  [1 2 4 5]\n"
     ]
    }
   ],
   "source": [
    "arr = np.array([1, 2,3 ,4 ,5])\n",
    "deleted = np.delete(arr, 2)\n",
    "\n",
    "print(\"Array after deletion: \",deleted)"
   ]
  }
 ],
 "metadata": {
  "kernelspec": {
   "display_name": "Python (myenv)",
   "language": "python",
   "name": "myenv"
  },
  "language_info": {
   "codemirror_mode": {
    "name": "ipython",
    "version": 3
   },
   "file_extension": ".py",
   "mimetype": "text/x-python",
   "name": "python",
   "nbconvert_exporter": "python",
   "pygments_lexer": "ipython3",
   "version": "3.13.3"
  }
 },
 "nbformat": 4,
 "nbformat_minor": 5
}
