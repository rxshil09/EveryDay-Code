{
 "cells": [
  {
   "cell_type": "markdown",
   "id": "12652eac",
   "metadata": {},
   "source": [
    "## Advance operation with Buisness example"
   ]
  },
  {
   "cell_type": "code",
   "execution_count": 2,
   "id": "fa03953e",
   "metadata": {},
   "outputs": [],
   "source": [
    "import numpy as np\n",
    "import matplotlib.pyplot as plt"
   ]
  },
  {
   "cell_type": "code",
   "execution_count": 6,
   "id": "4156af52",
   "metadata": {},
   "outputs": [
    {
     "name": "stdout",
     "output_type": "stream",
     "text": [
      "============ Zomato analysis ============\n",
      " \n",
      " Sales data shape:  (5, 5)\n",
      "\n",
      " Sample data for first three restaurant: \n",
      " [[     1 150000 180000 220000 250000]\n",
      " [     2 120000 140000 160000 190000]\n",
      " [     3 200000 230000 260000 300000]]\n"
     ]
    }
   ],
   "source": [
    "# Data structure: [restaurant_id, 2021, 2022, 2023, 2024]\n",
    "sales_data = np.array([\n",
    "    [1, 150000, 180000, 220000, 250000],  # Paradise Biryani\n",
    "    [2, 120000, 140000, 160000, 190000],  # Beijing Bites\n",
    "    [3, 200000, 230000, 260000, 300000],  # Pizza Hub\n",
    "    [4, 180000, 210000, 240000, 270000],  # Burger Point\n",
    "    [5, 160000, 185000, 205000, 230000]   # Chai Point\n",
    "])\n",
    "\n",
    "print(\"============ Zomato analysis ============\")\n",
    "print(\" \\n Sales data shape: \", sales_data.shape)\n",
    "print(\"\\n Sample data for first three restaurant: \\n\", sales_data[:3])"
   ]
  },
  {
   "cell_type": "code",
   "execution_count": 14,
   "id": "b44b6ffa",
   "metadata": {},
   "outputs": [
    {
     "name": "stdout",
     "output_type": "stream",
     "text": [
      "Sum of total sales per year:  [     15  810000  945000 1085000 1240000]\n",
      "Sum of total sales of a restaurant:  [800000 610000 990000 900000 780000]\n",
      "Min sales per restaurant: \n",
      " [150000 120000 200000 180000 160000]\n",
      "Max sales per year: \n",
      " [200000 230000 260000 300000]\n",
      "average sale per restaurant: \n",
      " [200000. 152500. 247500. 225000. 195000.]\n"
     ]
    }
   ],
   "source": [
    "# Total Sales per year\n",
    "print(\"Sum of total sales per year: \", np.sum(sales_data, axis = 0))\n",
    "\n",
    "print(\"Sum of total sales of a restaurant: \", np.sum(sales_data[ : , 1:], axis = 1))\n",
    "\n",
    "# Minimum Sales per restaurant\n",
    "min_sales = np.min(sales_data[ : , 1 : ], axis=1)\n",
    "print(\"Min sales per restaurant: \\n\", min_sales)\n",
    "\n",
    "# Maximum Sales per year\n",
    "max_sales = np.max(sales_data[:, 1:], axis = 0)\n",
    "print(\"Max sales per year: \\n\", max_sales)\n",
    "\n",
    "# Average sales per restaurant\n",
    "\n",
    "# np.average -> can calculate weighted means\n",
    "# np.mean -> simple arithematic means\n",
    "\n",
    "avg_sale = np.average(sales_data[:, 1:], axis = 1)\n",
    "print(\"average sale per restaurant: \\n\", avg_sale)"
   ]
  },
  {
   "cell_type": "code",
   "execution_count": 23,
   "id": "45f40459",
   "metadata": {},
   "outputs": [
    {
     "name": "stdout",
     "output_type": "stream",
     "text": [
      "[[150000 330000 550000 800000]\n",
      " [120000 260000 420000 610000]\n",
      " [200000 430000 690000 990000]\n",
      " [180000 390000 630000 900000]\n",
      " [160000 345000 550000 780000]]\n"
     ]
    },
    {
     "data": {
      "image/png": "[encoded data removed]",
      "text/plain": [
       "<Figure size 400x300 with 1 Axes>"
      ]
     },
     "metadata": {},
     "output_type": "display_data"
    }
   ],
   "source": [
    "# cummulative sales\n",
    "\n",
    "cumsum = np.cumsum(sales_data[:, 1:], axis = 1)\n",
    "print(cumsum)\n",
    "\n",
    "plt.figure(figsize=(4, 3))\n",
    "plt.plot(np.mean(cumsum, axis=0))\n",
    "plt.title(\"Average cummulative sales across all restaurant\")\n",
    "plt.xlabel(\"Years\")\n",
    "plt.ylabel(\"Sales\")\n",
    "plt.grid(True)\n",
    "plt.show()"
   ]
  },
  {
   "cell_type": "code",
   "execution_count": 28,
   "id": "041b5021",
   "metadata": {},
   "outputs": [
    {
     "name": "stdout",
     "output_type": "stream",
     "text": [
      "vector addition:  [ 7  9 11 13 15]\n",
      "vector multiplication:  [ 6 14 24 36 50]\n",
      "dot product:  130\n",
      "angle:  0.26554161733900966\n"
     ]
    }
   ],
   "source": [
    "vector1 = np.array([1, 2, 3, 4, 5])\n",
    "vector2 = np.array([6, 7, 8 ,9, 10])\n",
    "\n",
    "print(\"vector addition: \", vector1 + vector2)\n",
    "print(\"vector multiplication: \", vector1 * vector2)\n",
    "print(\"dot product: \", np.dot(vector1, vector2))\n",
    "\n",
    "angle = np.arccos(np.dot(vector1, vector2) / (np.linalg.norm(vector1) * np.linalg.norm(vector2)))\n",
    "print(\"angle: \", angle)"
   ]
  },
  {
   "cell_type": "code",
   "execution_count": 29,
   "id": "3468cd1a",
   "metadata": {},
   "outputs": [
    {
     "name": "stdout",
     "output_type": "stream",
     "text": [
      "Vectorized Upper ['BIRYANI' 'CHINESE' 'PIZZA' 'BURGER' 'CAFE']\n"
     ]
    }
   ],
   "source": [
    "restaurant_types = np.array(['biryani', 'chinese', 'pizza', 'burger', 'cafe'])\n",
    "vectorized_upper = np.vectorize(str.upper)\n",
    "print(\"Vectorized Upper\", vectorized_upper(restaurant_types))"
   ]
  },
  {
   "cell_type": "code",
   "execution_count": 30,
   "id": "970b5814",
   "metadata": {},
   "outputs": [
    {
     "name": "stdout",
     "output_type": "stream",
     "text": [
      "[[12500.         15000.         18333.33333333 20833.33333333]\n",
      " [10000.         11666.66666667 13333.33333333 15833.33333333]\n",
      " [16666.66666667 19166.66666667 21666.66666667 25000.        ]\n",
      " [15000.         17500.         20000.         22500.        ]\n",
      " [13333.33333333 15416.66666667 17083.33333333 19166.66666667]]\n"
     ]
    }
   ],
   "source": [
    "monthly_avg = sales_data[:, 1:] / 12\n",
    "\n",
    "print(monthly_avg)"
   ]
  }
 ],
 "metadata": {
  "kernelspec": {
   "display_name": "Python (myenv)",
   "language": "python",
   "name": "myenv"
  },
  "language_info": {
   "codemirror_mode": {
    "name": "ipython",
    "version": 3
   },
   "file_extension": ".py",
   "mimetype": "text/x-python",
   "name": "python",
   "nbconvert_exporter": "python",
   "pygments_lexer": "ipython3",
   "version": "3.13.3"
  }
 },
 "nbformat": 4,
 "nbformat_minor": 5
}
