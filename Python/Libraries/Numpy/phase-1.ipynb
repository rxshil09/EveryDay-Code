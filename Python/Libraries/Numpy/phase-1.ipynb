{
 "cells": [
  {
   "cell_type": "markdown",
   "id": "667ac2ca",
   "metadata": {},
   "source": [
    "## Numpy array and basics\n",
    "\n",
    "learn about numpy"
   ]
  },
  {
   "cell_type": "code",
   "execution_count": 2,
   "id": "fd94cb1d",
   "metadata": {},
   "outputs": [],
   "source": [
    "import numpy as np\n",
    "import time"
   ]
  },
  {
   "cell_type": "markdown",
   "id": "2cd40784",
   "metadata": {},
   "source": [
    "## creating array from list"
   ]
  },
  {
   "cell_type": "code",
   "execution_count": 8,
   "id": "0c325fc1",
   "metadata": {},
   "outputs": [
    {
     "name": "stdout",
     "output_type": "stream",
     "text": [
      "arr_1d : [1 2 3 4 5]\n",
      "arr_2d : [[1 2 3]\n",
      " [4 5 6]]\n"
     ]
    }
   ],
   "source": [
    "arr_1d = np.array([1,2,3,4,5])\n",
    "print(f\"arr_1d : {arr_1d}\")\n",
    "\n",
    "\n",
    "arr_2d = np.array([[1,2,3], [4,5,6]])\n",
    "print(f\"arr_2d : {arr_2d}\")"
   ]
  },
  {
   "cell_type": "markdown",
   "id": "44a11fca",
   "metadata": {},
   "source": [
    "### List vs numpy array"
   ]
  },
  {
   "cell_type": "code",
   "execution_count": 3,
   "id": "cb1ebfc4",
   "metadata": {},
   "outputs": [
    {
     "name": "stdout",
     "output_type": "stream",
     "text": [
      "python list multiplication:  [1, 2, 3, 4, 5, 1, 2, 3, 4, 5]\n",
      "python array multiplication:  [ 2  4  6  8 10]\n",
      "\n",
      " List operation time:  0.0005216598510742188\n",
      "\n",
      " Numpy operation time:  0.00019812583923339844\n"
     ]
    }
   ],
   "source": [
    "py_list = [1,2,3,4,5]\n",
    "print(\"python list multiplication: \", py_list * 2)\n",
    "\n",
    "np_array = np.array([1,2,3,4,5])  ## element wise multiplication\n",
    "print(\"python array multiplication: \", np_array * 2)\n",
    "\n",
    "\n",
    "start = time.time()\n",
    "py_list = [i*2 for i in range(10000)]\n",
    "print(\"\\n List operation time: \", time.time() - start)\n",
    "\n",
    "\n",
    "start = time.time()\n",
    "np_array = np.arange(10000) * 2\n",
    "print(\"\\n Numpy operation time: \", time.time() - start)\n",
    "\n"
   ]
  },
  {
   "cell_type": "markdown",
   "id": "d4a0b73b",
   "metadata": {},
   "source": [
    "### creatin array from scratch  "
   ]
  },
  {
   "cell_type": "code",
   "execution_count": 22,
   "id": "9bc0d8aa",
   "metadata": {},
   "outputs": [
    {
     "name": "stdout",
     "output_type": "stream",
     "text": [
      "Zeros array: \n",
      " [[0. 0. 0. 0.]\n",
      " [0. 0. 0. 0.]\n",
      " [0. 0. 0. 0.]]\n",
      "\n",
      "Ones array: \n",
      " [[1. 1. 1. 1.]\n",
      " [1. 1. 1. 1.]\n",
      " [1. 1. 1. 1.]]\n",
      "\n",
      "Constants array: \n",
      " [[7 7]\n",
      " [7 7]]\n",
      "\n",
      "Randoms array: \n",
      " [[5. 8. 2.]\n",
      " [2. 7. 6.]]\n",
      "\n",
      "Sequence array: \n",
      " [0 2 4 6 8]\n"
     ]
    }
   ],
   "source": [
    "zeros = np.zeros((3,4))\n",
    "print(\"Zeros array: \\n\", zeros)\n",
    "\n",
    "ones = np.ones((3,4))\n",
    "print(\"\\nOnes array: \\n\",ones)\n",
    "\n",
    "full = np.full((2,2), 7)\n",
    "print(\"\\nConstants array: \\n\",full)\n",
    "\n",
    "random = np.random.random((2,3))\n",
    "print(\"\\nRandoms array: \\n\", np.floor(random * 10))\n",
    "\n",
    "sequence = np.arange(0, 10, 2)\n",
    "print(\"\\nSequence array: \\n\",sequence)"
   ]
  },
  {
   "cell_type": "markdown",
   "id": "dc81337d",
   "metadata": {},
   "source": [
    "### Vector, Matrix, Tensor"
   ]
  },
  {
   "cell_type": "code",
   "execution_count": 28,
   "id": "090064f5",
   "metadata": {},
   "outputs": [
    {
     "name": "stdout",
     "output_type": "stream",
     "text": [
      "Vector: \n",
      " [1 2 3]\n",
      "Matrix: \n",
      " [[1 2 3]\n",
      " [4 5 6]]\n",
      "Tensor: \n",
      " [[[1 2]\n",
      "  [3 4]]\n",
      "\n",
      " [[5 6]\n",
      "  [7 8]]]\n"
     ]
    }
   ],
   "source": [
    "vector = np.array([1,2,3])\n",
    "print(\"Vector: \\n\", vector)\n",
    "\n",
    "matrix = np.array([[1,2,3],\n",
    "                    [4,5,6]])\n",
    "print(\"Matrix: \\n\", matrix)\n",
    "\n",
    "tensor = np.array([[[1, 2], [3, 4]],\n",
    "                    [[5, 6], [7, 8]]])\n",
    "print(\"Tensor: \\n\", tensor)"
   ]
  },
  {
   "cell_type": "markdown",
   "id": "dac7f2d8",
   "metadata": {},
   "source": [
    "## Array Properties"
   ]
  },
  {
   "cell_type": "code",
   "execution_count": 5,
   "id": "3ac78208",
   "metadata": {},
   "outputs": [
    {
     "name": "stdout",
     "output_type": "stream",
     "text": [
      "Shape of array:  (2, 3)\n",
      "Dimension of array:  2\n",
      "Size of array:  6\n",
      "Dtype of array:  int64\n"
     ]
    }
   ],
   "source": [
    "arr = np.array([[1, 2, 3],\n",
    "                [4, 5, 6]])\n",
    "print(\"Shape of array: \", arr.shape)\n",
    "print(\"Dimension of array: \", arr.ndim)\n",
    "print(\"Size of array: \", arr.size)\n",
    "print(\"Dtype of array: \", arr.dtype)"
   ]
  },
  {
   "cell_type": "markdown",
   "id": "45b8fec9",
   "metadata": {},
   "source": [
    "### Array reshaping"
   ]
  },
  {
   "cell_type": "code",
   "execution_count": null,
   "id": "01328028",
   "metadata": {},
   "outputs": [
    {
     "name": "stdout",
     "output_type": "stream",
     "text": [
      "Original array:  [ 0  1  2  3  4  5  6  7  8  9 10 11]\n",
      "\n",
      " Reshaped array: \n",
      " [[ 0  1  2  3]\n",
      " [ 4  5  6  7]\n",
      " [ 8  9 10 11]]\n",
      "\n",
      " Flatened array: \n",
      " [ 0  1  2  3  4  5  6  7  8  9 10 11]\n",
      "\n",
      " raveled array: \n",
      " [ 0  1  2  3  4  5  6  7  8  9 10 11]\n",
      "\n",
      " Transpose array: \n",
      " [[ 0  4  8]\n",
      " [ 1  5  9]\n",
      " [ 2  6 10]\n",
      " [ 3  7 11]]\n"
     ]
    }
   ],
   "source": [
    "arr = np.arange(12)\n",
    "print(\"Original array: \", arr)\n",
    "\n",
    "reshaped = arr.reshape((3, 4))\n",
    "print(\"\\n Reshaped array: \\n\", reshaped)\n",
    "\n",
    "flatened = reshaped.flatten()\n",
    "print(\"\\n Flatened array: \\n\", flatened)\n",
    "\n",
    "# ravel (return view, instead of copy)\n",
    "raveled = reshaped.ravel()\n",
    "print(\"\\n raveled array: \\n\", raveled)\n",
    "\n",
    "# Transpose\n",
    "transposed = reshaped.T\n",
    "print(\"\\n Transpose array: \\n\", transposed)\n"
   ]
  }
 ],
 "metadata": {
  "kernelspec": {
   "display_name": "Python (myenv)",
   "language": "python",
   "name": "myenv"
  },
  "language_info": {
   "codemirror_mode": {
    "name": "ipython",
    "version": 3
   },
   "file_extension": ".py",
   "mimetype": "text/x-python",
   "name": "python",
   "nbconvert_exporter": "python",
   "pygments_lexer": "ipython3",
   "version": "3.13.3"
  }
 },
 "nbformat": 4,
 "nbformat_minor": 5
}
